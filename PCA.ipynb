{
 "cells": [
  {
   "cell_type": "code",
   "execution_count": 3,
   "metadata": {
    "id": "vN-Ryg446J28"
   },
   "outputs": [],
   "source": [
    "import matplotlib.pyplot as plt\n",
    "from mpl_toolkits.mplot3d import axes3d\n",
    "\n",
    "from IPython.display import clear_output\n",
    "\n",
    "import pandas as pd\n",
    "import numpy as np\n",
    "classes = {0:'T-shirt/top',\n",
    "           1:'Trouser', \n",
    "           2: 'Pullover', \n",
    "           3: 'Dress', \n",
    "           4: 'Coat',\n",
    "           5: 'Sandal',\n",
    "           6: 'Shirt',\n",
    "           7: 'Sneaker',\n",
    "           8: 'Bag', \n",
    "           9: 'Ankle Boot'}"
   ]
  },
  {
   "cell_type": "code",
   "execution_count": 4,
   "metadata": {
    "id": "Q6ntYlmzZSj-"
   },
   "outputs": [],
   "source": [
    "selected_labels = [0, 1, 5, 8, 9]\n",
    "\n",
    "data = pd.read_csv('fashion_MNIST/fashion-mnist_train.csv')\n",
    "data = data.loc[data['label'].isin(selected_labels)].reset_index(drop=True)\n",
    "\n",
    "labels = data.pop('label')\n",
    "index = 0\n",
    "data = data.values\n",
    "images = np.reshape(data, (-1, 28, 28))"
   ]
  },
  {
   "cell_type": "code",
   "execution_count": null,
   "metadata": {
    "colab": {
     "base_uri": "https://localhost:8080/",
     "height": 264
    },
    "id": "g5tq50hY9VDC",
    "outputId": "2b850ebc-df20-4460-f4da-3a014e8815c9"
   },
   "outputs": [
    {
     "data": {
      "image/png": "[encoded data removed]",
      "text/plain": [
       "<Figure size 432x288 with 1 Axes>"
      ]
     },
     "metadata": {
      "needs_background": "light"
     },
     "output_type": "display_data"
    }
   ],
   "source": [
    "import matplotlib.pyplot as plt\n",
    "plt.imshow(images[index].squeeze(), cmap = 'gray')\n",
    "plt.title(classes[labels[index]])\n",
    "plt.axis('off')\n",
    "plt.show()\n",
    "index += 1"
   ]
  },
  {
   "cell_type": "markdown",
   "metadata": {
    "id": "nKIUXlHr6Y2y"
   },
   "source": [
    "# PCA step by step\n",
    "Here is the short summary of the required steps:\n",
    "* **Scale the data** — we don’t want some feature to be voted as “more important” due to scale differences. 10m = 10000mm, but the algorithm isn’t aware of meters and millimeters\n",
    "* **Calculate covariance matrix** — square matrix giving the covariances between each pair of elements of a random vector\n",
    "* **Eigen Decomposition**\n"
   ]
  },
  {
   "cell_type": "markdown",
   "metadata": {
    "id": "n8RcNVgJ-CYH"
   },
   "source": [
    "# Scale the Data:\n",
    "Standardize features. to do so, use this formula: $$z = \\frac{(x - \\mu)}{\\sigma}$$\n",
    "where $\\mu$ is mean and $\\sigma$ is standard deviation."
   ]
  },
  {
   "cell_type": "code",
   "execution_count": 8,
   "metadata": {
    "id": "nzK7sJOO994k"
   },
   "outputs": [],
   "source": [
    "# Code Here\n",
    "mean_ = data.mean()\n",
    "std_ = data.std()\n",
    "X_scaled = (data - mean_)/std_"
   ]
  },
  {
   "cell_type": "markdown",
   "metadata": {
    "id": "kuxGHdSxPqqB"
   },
   "source": [
    "# Calculate Covariance Matrix:\n",
    "Let’s take a step back here and understand the difference between variance and covariance. Variance reports variation of a single random variable — let’s say the weight of a person, and covariance reports how much two random variables vary — like weight and height of a person.\n",
    "On the diagonal of the covariance matrix we have variances, and other elements are the covariances.\n",
    "\n",
    "For further information about covariance visit [wikipedia](https://en.wikipedia.org/wiki/Covariance)."
   ]
  },
  {
   "cell_type": "code",
   "execution_count": 9,
   "metadata": {},
   "outputs": [],
   "source": [
    "X_scaled = X_scaled[:10,:]"
   ]
  },
  {
   "cell_type": "code",
   "execution_count": 10,
   "metadata": {},
   "outputs": [
    {
     "data": {
      "text/plain": [
       "array([[1.36955018e-32, 1.36955018e-32, 1.36955018e-32, 1.91737026e-32,\n",
       "        1.50650520e-32],\n",
       "       [1.36955018e-32, 1.36955018e-32, 1.36955018e-32, 1.91737026e-32,\n",
       "        1.50650520e-32],\n",
       "       [1.36955018e-32, 1.36955018e-32, 1.36955018e-32, 1.91737026e-32,\n",
       "        1.50650520e-32],\n",
       "       [1.91737026e-32, 1.91737026e-32, 1.91737026e-32, 1.25835825e-05,\n",
       "        2.37689892e-05],\n",
       "       [1.50650520e-32, 1.50650520e-32, 1.50650520e-32, 2.37689892e-05,\n",
       "        5.73252092e-05]])"
      ]
     },
     "execution_count": 10,
     "metadata": {},
     "output_type": "execute_result"
    }
   ],
   "source": [
    "N, M = X_scaled.shape\n",
    "\n",
    "# Calculate the covariance matrix\n",
    "cov_matrix = np.zeros((M, M))\n",
    "\n",
    "for i in range(M):\n",
    "    # Mean of column \"i\"\n",
    "    mean_i = np.sum(X_scaled[:, i]) / N\n",
    "    for j in range(M):\n",
    "        mean_j = np.sum(X_scaled[:, j]) / N\n",
    "        cov_matrix[i, j] = np.sum((X_scaled[:, i] - mean_i) * (X_scaled[:, j] - mean_j)) / (N - 1)\n",
    "assert cov_matrix.shape == (784,784) , \"covariance matrix shape should be 784 * 784\"\n",
    "\n",
    "cov_matrix[0:5, 0:5]"
   ]
  },
  {
   "cell_type": "markdown",
   "metadata": {
    "id": "AE5beK2BQhdo"
   },
   "source": [
    "As you can see, the diagonal elements are identical, and the matrix is symmetrical. Up next, eigendecomposition."
   ]
  },
  {
   "cell_type": "markdown",
   "metadata": {
    "id": "rSf2ECtuQt1G"
   },
   "source": [
    "# Eigendecomposition\n",
    "`Eigendecomposition is a process that decomposes a square matrix into eigenvectors and eigenvalues.` <font color='red'>Eigenvectors are simple unit vectors</font>, and <font color='green'>eigenvalues are coefficients which give the magnitude to the eigenvectors. </font>\n",
    "\n",
    "We know so far that our `covariance matrix is symmetrical.` As it turns out, `eigenvectors of symmetric matrices are orthogonal.` For PCA this means that we have the first principal component which explains most of the variance. Orthogonal to that is the second principal component, which explains most of the remaining variance. This is repeated for N number of principal components, where N equals to number of original features.\n",
    "\n",
    "And this turns out to be neat for us — principal components are sorted by percentage of variance explained, as we can decide how many should we keep. For example, if we have 100 features originally, but the first 3 principal components explain 95% of the variance, then it makes sense to keep only these 3 for visualizations and model training.\n"
   ]
  },
  {
   "cell_type": "code",
   "execution_count": 11,
   "metadata": {
    "colab": {
     "base_uri": "https://localhost:8080/"
    },
    "id": "T7UUzou8O7wi",
    "outputId": "f070bd41-20aa-486e-de18-92d07db9a932"
   },
   "outputs": [
    {
     "name": "stdout",
     "output_type": "stream",
     "text": [
      "First 10 eigenvalues: [2.37241679e+02+0.0000000e+00j 1.33839444e+02+0.0000000e+00j\n",
      " 6.18544908e+01+0.0000000e+00j 5.04857303e+01+0.0000000e+00j\n",
      " 3.75689838e+01+0.0000000e+00j 3.00514134e+01+0.0000000e+00j\n",
      " 1.97034231e+01+0.0000000e+00j 1.54197839e+01+0.0000000e+00j\n",
      " 1.41472296e+01+0.0000000e+00j 3.68325499e-15+4.7867768e-15j]\n",
      "\n",
      "\n",
      "Last 10 eigenvalues: [-1.12559944e-31-1.01783387e-31j  7.03577376e-32+0.00000000e+00j\n",
      " -6.31530560e-32+0.00000000e+00j  4.70153943e-33+8.54417404e-33j\n",
      "  4.70153943e-33-8.54417404e-33j  2.32325583e-33+0.00000000e+00j\n",
      " -1.81173029e-33+0.00000000e+00j -6.44943425e-34+0.00000000e+00j\n",
      "  1.31994506e-34+0.00000000e+00j  7.48852136e-49+0.00000000e+00j]\n"
     ]
    }
   ],
   "source": [
    "# Code Here\n",
    "# Implementing the functions to return eigen vectors and values are optional and have extra score.\n",
    "eig_values, eig_vectors = np.linalg.eig(cov_matrix)\n",
    "\n",
    "##\n",
    "\n",
    "\n",
    "print(f'First 10 eigenvalues: {eig_values[:10]}')\n",
    "print(f'\\n\\nLast 10 eigenvalues: {eig_values[-10:]}')"
   ]
  },
  {
   "cell_type": "code",
   "execution_count": 12,
   "metadata": {
    "colab": {
     "base_uri": "https://localhost:8080/",
     "height": 558
    },
    "id": "R8gds64QRU-A",
    "outputId": "f590f1c0-3d42-4a64-d44d-48e612a655bc",
    "scrolled": true
   },
   "outputs": [
    {
     "name": "stderr",
     "output_type": "stream",
     "text": [
      "/home/mostafa/.local/lib/python3.8/site-packages/numpy/ma/core.py:3379: ComplexWarning: Casting complex values to real discards the imaginary part\n",
      "  _data[indx] = dval\n",
      "/home/mostafa/.local/lib/python3.8/site-packages/matplotlib/cbook/__init__.py:1333: ComplexWarning: Casting complex values to real discards the imaginary part\n",
      "  return np.asarray(x, float)\n",
      "/home/mostafa/.local/lib/python3.8/site-packages/matplotlib/cbook/__init__.py:1333: ComplexWarning: Casting complex values to real discards the imaginary part\n",
      "  return np.asarray(x, float)\n"
     ]
    },
    {
     "data": {
      "image/png": "[encoded data removed]",
      "text/plain": [
       "<Figure size 360x216 with 1 Axes>"
      ]
     },
     "metadata": {
      "needs_background": "light"
     },
     "output_type": "display_data"
    }
   ],
   "source": [
    "plt.figure(figsize=(5,3))\n",
    "plt.stem(eig_values[:200])\n",
    "plt.xlabel('Eigen value index')\n",
    "plt.ylabel('Eigen value')\n",
    "plt.show()"
   ]
  },
  {
   "cell_type": "code",
   "execution_count": 13,
   "metadata": {
    "colab": {
     "base_uri": "https://localhost:8080/"
    },
    "id": "VXebdStRRWm_",
    "outputId": "eec29cbe-e37a-4c97-90d0-b8184d9eb05c"
   },
   "outputs": [
    {
     "name": "stdout",
     "output_type": "stream",
     "text": [
      "Eigenvectors upto 1 expresses (39.51971787704018+4.933563477558949e-31j) % variance\n",
      "Eigenvectors upto 2 expresses (61.814691912796775+7.7168239749684445e-31j) % variance\n",
      "Eigenvectors upto 3 expresses (72.11841271612376+9.0031201169708e-31j) % variance\n",
      "Eigenvectors upto 4 expresses (80.52832544050285+1.0052997001101088e-30j) % variance\n",
      "Eigenvectors upto 5 expresses (86.7865665844429+1.0834263457444825e-30j) % variance\n",
      "Eigenvectors upto 6 expresses (91.7925309004059+1.1459198149439343e-30j) % variance\n",
      "Eigenvectors upto 7 expresses (95.0747270344109+1.186894102825478e-30j) % variance\n",
      "Eigenvectors upto 8 expresses (97.64335455857922+1.2189603412032874e-30j) % variance\n",
      "Eigenvectors upto 9 expresses (100+1.2483802371537697e-30j) % variance\n",
      "Eigenvectors upto 10 expresses (100+7.973812572307506e-16j) % variance\n",
      "Eigenvectors upto 11 expresses (100+1.2483802371537697e-30j) % variance\n",
      "Eigenvectors upto 12 expresses (100+1.7429752704420287e-16j) % variance\n",
      "Eigenvectors upto 13 expresses (100+1.2483802371537697e-30j) % variance\n",
      "Eigenvectors upto 14 expresses (100+8.106425412428642e-16j) % variance\n",
      "Eigenvectors upto 15 expresses (100+1.2483802371537697e-30j) % variance\n",
      "Eigenvectors upto 16 expresses (100+3.9445472763909784e-16j) % variance\n",
      "Eigenvectors upto 17 expresses (100+1.3140844601618628e-30j) % variance\n",
      "Eigenvectors upto 18 expresses (100+1.3140844601618628e-30j) % variance\n",
      "Eigenvectors upto 19 expresses (100+6.506897991613753e-16j) % variance\n",
      "Eigenvectors upto 20 expresses (100+1.2483802371537697e-30j) % variance\n",
      "Eigenvectors upto 21 expresses (100+3.8667533457620455e-16j) % variance\n",
      "Eigenvectors upto 22 expresses (100+1.2483802371537697e-30j) % variance\n",
      "Eigenvectors upto 23 expresses (100+2.0376965798731667e-16j) % variance\n",
      "Eigenvectors upto 24 expresses (100+1.2483802371537697e-30j) % variance\n",
      "Eigenvectors upto 25 expresses (100+1.2483802371537697e-30j) % variance\n",
      "Eigenvectors upto 26 expresses (100+1.484962172864411e-16j) % variance\n",
      "Eigenvectors upto 27 expresses (100+1.2483802371537697e-30j) % variance\n",
      "Eigenvectors upto 28 expresses (100+7.873270191042119e-17j) % variance\n",
      "Eigenvectors upto 29 expresses (100+1.3469365716659092e-30j) % variance\n",
      "Eigenvectors upto 30 expresses (100+1.3469365716659092e-30j) % variance\n",
      "Eigenvectors upto 31 expresses (100+1.3469365716659092e-30j) % variance\n",
      "Eigenvectors upto 32 expresses (100+3.490144367547543e-17j) % variance\n",
      "Eigenvectors upto 33 expresses (100+1.1867825280836824e-30j) % variance\n",
      "Eigenvectors upto 34 expresses (100+8.163458545904156e-17j) % variance\n",
      "Eigenvectors upto 35 expresses (100+1.1826760141456765e-30j) % variance\n",
      "Eigenvectors upto 36 expresses (100+1.9218680215361685e-16j) % variance\n",
      "Eigenvectors upto 37 expresses (100+1.0512675681294903e-30j) % variance\n",
      "Eigenvectors upto 38 expresses (100+1.0512675681294903e-30j) % variance\n",
      "Eigenvectors upto 39 expresses (100+1.3545827976758131e-16j) % variance\n",
      "Eigenvectors upto 40 expresses (100+9.855633451213972e-31j) % variance\n",
      "Eigenvectors upto 41 expresses (100+3.3552988820945084e-16j) % variance\n",
      "Eigenvectors upto 42 expresses (100+9.855633451213972e-31j) % variance\n",
      "Eigenvectors upto 43 expresses (100+8.662723266347756e-17j) % variance\n",
      "Eigenvectors upto 44 expresses (100+1.1169717911375834e-30j) % variance\n",
      "Eigenvectors upto 45 expresses (100+1.1169717911375834e-30j) % variance\n",
      "Eigenvectors upto 46 expresses (100+3.185469540376049e-17j) % variance\n",
      "Eigenvectors upto 47 expresses (100+1.1169717911375834e-30j) % variance\n",
      "Eigenvectors upto 48 expresses (100+2.5167880534153404e-17j) % variance\n",
      "Eigenvectors upto 49 expresses (100+1.1662499583936532e-30j) % variance\n",
      "Eigenvectors upto 50 expresses (100+4.339662506397101e-17j) % variance\n",
      "Eigenvectors upto 51 expresses (100+1.1662499583936532e-30j) % variance\n",
      "Eigenvectors upto 52 expresses (100+1.4113953482374584e-16j) % variance\n",
      "Eigenvectors upto 53 expresses (100+1.2319541814017465e-30j) % variance\n",
      "Eigenvectors upto 54 expresses (100+1.1753870922272533e-16j) % variance\n",
      "Eigenvectors upto 55 expresses (100+1.2319541814017465e-30j) % variance\n",
      "Eigenvectors upto 56 expresses (100+4.058933643010734e-16j) % variance\n",
      "Eigenvectors upto 57 expresses (100+1.3797886831699559e-30j) % variance\n",
      "Eigenvectors upto 58 expresses (100+1.4438445241887308e-16j) % variance\n",
      "Eigenvectors upto 59 expresses (100+1.3797886831699559e-30j) % variance\n",
      "Eigenvectors upto 60 expresses (100+3.328086700103774e-17j) % variance\n",
      "Eigenvectors upto 61 expresses (100+1.3305105159138861e-30j) % variance\n",
      "Eigenvectors upto 62 expresses (100+1.2901515227509434e-16j) % variance\n",
      "Eigenvectors upto 63 expresses (100+1.3305105159138861e-30j) % variance\n",
      "Eigenvectors upto 64 expresses (100+2.1605817442761945e-16j) % variance\n",
      "Eigenvectors upto 65 expresses (100+1.1826760141456765e-30j) % variance\n",
      "Eigenvectors upto 66 expresses (100+1.7725163291833262e-16j) % variance\n",
      "Eigenvectors upto 67 expresses (100+1.1826760141456765e-30j) % variance\n",
      "Eigenvectors upto 68 expresses (100+2.33248469653784e-17j) % variance\n",
      "Eigenvectors upto 69 expresses (100+1.1375043608276126e-30j) % variance\n",
      "Eigenvectors upto 70 expresses (100+2.1483762245244953e-16j) % variance\n",
      "Eigenvectors upto 71 expresses (100+1.14982390264163e-30j) % variance\n",
      "Eigenvectors upto 72 expresses (100+2.8546331818675287e-16j) % variance\n",
      "Eigenvectors upto 73 expresses (100+1.1169717911375834e-30j) % variance\n",
      "Eigenvectors upto 74 expresses (100+1.1169717911375834e-30j) % variance\n",
      "Eigenvectors upto 75 expresses (100+1.0275158106803364e-16j) % variance\n",
      "Eigenvectors upto 76 expresses (100+1.0512675681294903e-30j) % variance\n",
      "Eigenvectors upto 77 expresses (100+2.1200899569035634e-16j) % variance\n",
      "Eigenvectors upto 78 expresses (100+1.0512675681294903e-30j) % variance\n",
      "Eigenvectors upto 79 expresses (100+9.968331271404568e-17j) % variance\n",
      "Eigenvectors upto 80 expresses (100+1.2483802371537697e-30j) % variance\n",
      "Eigenvectors upto 81 expresses (100+5.858805849368164e-17j) % variance\n",
      "Eigenvectors upto 82 expresses (100+1.2483802371537697e-30j) % variance\n",
      "Eigenvectors upto 83 expresses (100+2.4016429827395016e-16j) % variance\n",
      "Eigenvectors upto 84 expresses (100+1.2483802371537697e-30j) % variance\n",
      "Eigenvectors upto 85 expresses (100+2.7183387101813773e-17j) % variance\n",
      "Eigenvectors upto 86 expresses (100+1.2483802371537697e-30j) % variance\n",
      "Eigenvectors upto 87 expresses (100+1.2207021782826737e-16j) % variance\n",
      "Eigenvectors upto 88 expresses (100+1.1169717911375834e-30j) % variance\n",
      "Eigenvectors upto 89 expresses (100+3.8393681616255524e-17j) % variance\n",
      "Eigenvectors upto 90 expresses (100+1.1169717911375834e-30j) % variance\n",
      "Eigenvectors upto 91 expresses (100+1.1169717911375834e-30j) % variance\n",
      "Eigenvectors upto 92 expresses (100+1.6185454543776638e-16j) % variance\n",
      "Eigenvectors upto 93 expresses (100+1.084119679633537e-30j) % variance\n",
      "Eigenvectors upto 94 expresses (100+1.4571769396695618e-16j) % variance\n",
      "Eigenvectors upto 95 expresses (100+1.084119679633537e-30j) % variance\n",
      "Eigenvectors upto 96 expresses (99.99999999999999+1.5319942883996955e-16j) % variance\n",
      "Eigenvectors upto 97 expresses (99.99999999999999+1.1826760141456764e-30j) % variance\n",
      "Eigenvectors upto 98 expresses (99.99999999999999+2.6940628256147347e-16j) % variance\n",
      "Eigenvectors upto 99 expresses (99.99999999999999+1.1826760141456764e-30j) % variance\n",
      "Eigenvectors upto 100 expresses (99.99999999999999+1.257849118586268e-16j) % variance\n",
      "Eigenvectors upto 101 expresses (100+1.1991020698976999e-30j) % variance\n",
      "Eigenvectors upto 102 expresses (100+2.1030906198435987e-16j) % variance\n",
      "Eigenvectors upto 103 expresses (100+1.2155281256497232e-30j) % variance\n",
      "Eigenvectors upto 104 expresses (99.99999999999999+2.8646885665896502e-16j) % variance\n",
      "Eigenvectors upto 105 expresses (99.99999999999999+1.1169717911375832e-30j) % variance\n",
      "Eigenvectors upto 106 expresses (99.99999999999999+8.326355956209961e-17j) % variance\n",
      "Eigenvectors upto 107 expresses (100+1.1169717911375834e-30j) % variance\n",
      "Eigenvectors upto 108 expresses (100+6.74279137975029e-18j) % variance\n",
      "Eigenvectors upto 109 expresses (100+1.084119679633537e-30j) % variance\n",
      "Eigenvectors upto 110 expresses (100+1.084119679633537e-30j) % variance\n",
      "Eigenvectors upto 111 expresses (100+2.2468801103657405e-16j) % variance\n",
      "Eigenvectors upto 112 expresses (100+1.2483802371537697e-30j) % variance\n",
      "Eigenvectors upto 113 expresses (100+7.873843580504534e-17j) % variance\n",
      "Eigenvectors upto 114 expresses (100+1.2483802371537697e-30j) % variance\n",
      "Eigenvectors upto 115 expresses (100+1.2483802371537697e-30j) % variance\n",
      "Eigenvectors upto 116 expresses (100+5.959829538765942e-17j) % variance\n",
      "Eigenvectors upto 117 expresses (100+1.2483802371537697e-30j) % variance\n",
      "Eigenvectors upto 118 expresses (100+1.353346439705595e-16j) % variance\n",
      "Eigenvectors upto 119 expresses (100+1.2483802371537697e-30j) % variance\n",
      "Eigenvectors upto 120 expresses (100+8.308675815718336e-17j) % variance\n",
      "Eigenvectors upto 121 expresses (100+1.1991020698976999e-30j) % variance\n",
      "Eigenvectors upto 122 expresses (100+1.3966937978365573e-16j) % variance\n",
      "Eigenvectors upto 123 expresses (100+1.1991020698976999e-30j) % variance\n",
      "Eigenvectors upto 124 expresses (100+1.558023529369737e-16j) % variance\n",
      "Eigenvectors upto 125 expresses (100+1.2812323486578163e-30j) % variance\n",
      "Eigenvectors upto 126 expresses (100+1.042160784603813e-17j) % variance\n",
      "Eigenvectors upto 127 expresses (100+1.2812323486578163e-30j) % variance\n",
      "Eigenvectors upto 128 expresses (100+2.0640248970197435e-16j) % variance\n",
      "Eigenvectors upto 129 expresses (100+1.5440492406901886e-30j) % variance\n",
      "Eigenvectors upto 130 expresses (100+1.7421776507204468e-16j) % variance\n",
      "Eigenvectors upto 131 expresses (100+1.5440492406901886e-30j) % variance\n",
      "Eigenvectors upto 132 expresses (100+7.279681040554777e-17j) % variance\n",
      "Eigenvectors upto 133 expresses (100+1.5440492406901886e-30j) % variance\n",
      "Eigenvectors upto 134 expresses (100+1.0595420864559347e-16j) % variance\n",
      "Eigenvectors upto 135 expresses (100+1.5440492406901886e-30j) % variance\n",
      "Eigenvectors upto 136 expresses (100+2.4425846975216097e-17j) % variance\n",
      "Eigenvectors upto 137 expresses (100+1.2319541814017465e-30j) % variance\n",
      "Eigenvectors upto 138 expresses (100+2.7605843537416893e-16j) % variance\n",
      "Eigenvectors upto 139 expresses (100+1.2155281256497232e-30j) % variance\n",
      "Eigenvectors upto 140 expresses (100+2.9708851728153417e-16j) % variance\n",
      "Eigenvectors upto 141 expresses (100+1.084119679633537e-30j) % variance\n",
      "Eigenvectors upto 142 expresses (100+2.340604440373242e-16j) % variance\n",
      "Eigenvectors upto 143 expresses (100+1.084119679633537e-30j) % variance\n",
      "Eigenvectors upto 144 expresses (100+1.7767580013636676e-16j) % variance\n",
      "Eigenvectors upto 145 expresses (100+1.1169717911375834e-30j) % variance\n",
      "Eigenvectors upto 146 expresses (100+2.041480906587078e-16j) % variance\n",
      "Eigenvectors upto 147 expresses (100+1.1169717911375834e-30j) % variance\n",
      "Eigenvectors upto 148 expresses (100+2.068550187311034e-16j) % variance\n",
      "Eigenvectors upto 149 expresses (100+1.0184154566254438e-30j) % variance\n",
      "Eigenvectors upto 150 expresses (100+2.2478190865497853e-16j) % variance\n",
      "Eigenvectors upto 151 expresses (100+1.0184154566254438e-30j) % variance\n",
      "Eigenvectors upto 152 expresses (100+8.90474345836495e-17j) % variance\n",
      "Eigenvectors upto 153 expresses (100+1.626179519450305e-30j) % variance\n",
      "Eigenvectors upto 154 expresses (100+1.0045706128942657e-16j) % variance\n",
      "Eigenvectors upto 155 expresses (100+1.626179519450305e-30j) % variance\n",
      "Eigenvectors upto 156 expresses (100+6.831281557044015e-17j) % variance\n",
      "Eigenvectors upto 157 expresses (100+7.391725088410479e-31j) % variance\n",
      "Eigenvectors upto 158 expresses (100+1.501207455539706e-16j) % variance\n",
      "Eigenvectors upto 159 expresses (100+7.391725088410479e-31j) % variance\n",
      "Eigenvectors upto 160 expresses (100+1.3295489442724596e-16j) % variance\n",
      "Eigenvectors upto 161 expresses (100+1.1991020698976999e-30j) % variance\n",
      "Eigenvectors upto 162 expresses (100+1.6221517962903755e-16j) % variance\n",
      "Eigenvectors upto 163 expresses (100+1.1991020698976999e-30j) % variance\n",
      "Eigenvectors upto 164 expresses (100+1.5517369305764732e-17j) % variance\n",
      "Eigenvectors upto 165 expresses (100+1.3797886831699559e-30j) % variance\n",
      "Eigenvectors upto 166 expresses (100+1.1180976606662667e-16j) % variance\n",
      "Eigenvectors upto 167 expresses (100+1.3797886831699559e-30j) % variance\n",
      "Eigenvectors upto 168 expresses (100+3.7387294204244786e-17j) % variance\n",
      "Eigenvectors upto 169 expresses (100+1.14982390264163e-30j) % variance\n",
      "Eigenvectors upto 170 expresses (100+4.984077612128445e-17j) % variance\n",
      "Eigenvectors upto 171 expresses (100+1.14982390264163e-30j) % variance\n",
      "Eigenvectors upto 172 expresses (100+1.0995483837345182e-16j) % variance\n",
      "Eigenvectors upto 173 expresses (100+1.1826760141456765e-30j) % variance\n",
      "Eigenvectors upto 174 expresses (100+1.1826760141456765e-30j) % variance\n",
      "Eigenvectors upto 175 expresses (100+6.201197119980689e-17j) % variance\n",
      "Eigenvectors upto 176 expresses (100.00000000000003+1.1169717911375838e-30j) % variance\n",
      "Eigenvectors upto 177 expresses (100.00000000000003+8.823961136283879e-17j) % variance\n",
      "Eigenvectors upto 178 expresses (100.00000000000003+1.1169717911375838e-30j) % variance\n",
      "Eigenvectors upto 179 expresses (100.00000000000003+3.8840603009192456e-18j) % variance\n",
      "Eigenvectors upto 180 expresses (100.00000000000003+1.1169717911375838e-30j) % variance\n",
      "Eigenvectors upto 181 expresses (100.00000000000003+1.1169717911375838e-30j) % variance\n",
      "Eigenvectors upto 182 expresses (100.00000000000003+3.9182230147663775e-17j) % variance\n",
      "Eigenvectors upto 183 expresses (100.00000000000003+1.1169717911375838e-30j) % variance\n",
      "Eigenvectors upto 184 expresses (100.00000000000003+1.5116323876973294e-16j) % variance\n",
      "Eigenvectors upto 185 expresses (100.00000000000003+8.541548991052113e-31j) % variance\n",
      "Eigenvectors upto 186 expresses (100.00000000000003+2.1388367355887625e-16j) % variance\n",
      "Eigenvectors upto 187 expresses (100.00000000000003+8.541548991052113e-31j) % variance\n",
      "Eigenvectors upto 188 expresses (100.00000000000003+2.7283690982332526e-16j) % variance\n",
      "Eigenvectors upto 189 expresses (100.00000000000003+9.855633451213975e-31j) % variance\n",
      "Eigenvectors upto 190 expresses (100.00000000000003+9.898627006059889e-17j) % variance\n",
      "Eigenvectors upto 191 expresses (100.00000000000003+9.855633451213975e-31j) % variance\n",
      "Eigenvectors upto 192 expresses (100+2.1006024385148356e-16j) % variance\n",
      "Eigenvectors upto 193 expresses (100+6.89894341584978e-31j) % variance\n",
      "Eigenvectors upto 194 expresses (100+2.2417886995093126e-16j) % variance\n",
      "Eigenvectors upto 195 expresses (100+6.89894341584978e-31j) % variance\n",
      "Eigenvectors upto 196 expresses (100+2.7197624029356627e-16j) % variance\n",
      "Eigenvectors upto 197 expresses (100+7.227464530890246e-31j) % variance\n",
      "Eigenvectors upto 198 expresses (100+2.7846121691699764e-16j) % variance\n",
      "Eigenvectors upto 199 expresses (100+7.227464530890246e-31j) % variance\n",
      "Eigenvectors upto 200 expresses (100+2.625819700004805e-16j) % variance\n"
     ]
    }
   ],
   "source": [
    "for i in range(200):\n",
    "    exp_var = np.sum(eig_values[:i+1])*100 / np.sum(eig_values)\n",
    "    print(f'Eigenvectors upto {i+1} expresses {exp_var} % variance')"
   ]
  },
  {
   "cell_type": "markdown",
   "metadata": {
    "id": "ILoLIAYrWTSq"
   },
   "source": [
    "# Visualizations\n",
    "## Eigenvector Visualization\n",
    "\n",
    "Project the scaled input into the first and second eigen vector and see the result."
   ]
  },
  {
   "cell_type": "code",
   "execution_count": 14,
   "metadata": {
    "colab": {
     "base_uri": "https://localhost:8080/",
     "height": 198
    },
    "id": "-89VNNOIWShA",
    "outputId": "afe9ffde-036a-4780-cf05-f4af4243c019"
   },
   "outputs": [
    {
     "data": {
      "text/html": [
       "<div>\n",
       "<style scoped>\n",
       "    .dataframe tbody tr th:only-of-type {\n",
       "        vertical-align: middle;\n",
       "    }\n",
       "\n",
       "    .dataframe tbody tr th {\n",
       "        vertical-align: top;\n",
       "    }\n",
       "\n",
       "    .dataframe thead th {\n",
       "        text-align: right;\n",
       "    }\n",
       "</style>\n",
       "<table border=\"1\" class=\"dataframe\">\n",
       "  <thead>\n",
       "    <tr style=\"text-align: right;\">\n",
       "      <th></th>\n",
       "      <th>PC1</th>\n",
       "      <th>PC2</th>\n",
       "      <th>Y</th>\n",
       "    </tr>\n",
       "  </thead>\n",
       "  <tbody>\n",
       "    <tr>\n",
       "      <th>0</th>\n",
       "      <td>-8.900323+0.000000j</td>\n",
       "      <td>17.456859+0.000000j</td>\n",
       "      <td>9</td>\n",
       "    </tr>\n",
       "    <tr>\n",
       "      <th>1</th>\n",
       "      <td>21.018266+0.000000j</td>\n",
       "      <td>2.475109+0.000000j</td>\n",
       "      <td>0</td>\n",
       "    </tr>\n",
       "    <tr>\n",
       "      <th>2</th>\n",
       "      <td>-11.722083+0.000000j</td>\n",
       "      <td>-5.148777+0.000000j</td>\n",
       "      <td>5</td>\n",
       "    </tr>\n",
       "    <tr>\n",
       "      <th>3</th>\n",
       "      <td>7.538981+0.000000j</td>\n",
       "      <td>1.035658+0.000000j</td>\n",
       "      <td>8</td>\n",
       "    </tr>\n",
       "    <tr>\n",
       "      <th>4</th>\n",
       "      <td>32.138836+0.000000j</td>\n",
       "      <td>5.601860+0.000000j</td>\n",
       "      <td>0</td>\n",
       "    </tr>\n",
       "  </tbody>\n",
       "</table>\n",
       "</div>"
      ],
      "text/plain": [
       "                   PC1                  PC2  Y\n",
       "0  -8.900323+0.000000j  17.456859+0.000000j  9\n",
       "1  21.018266+0.000000j   2.475109+0.000000j  0\n",
       "2 -11.722083+0.000000j  -5.148777+0.000000j  5\n",
       "3   7.538981+0.000000j   1.035658+0.000000j  8\n",
       "4  32.138836+0.000000j   5.601860+0.000000j  0"
      ]
     },
     "execution_count": 14,
     "metadata": {},
     "output_type": "execute_result"
    }
   ],
   "source": [
    "# Code Here\n",
    "projected_1 = np.dot(X_scaled, eig_vectors[:, 0])\n",
    "projected_2 = np.dot(X_scaled, eig_vectors[:, 1])\n",
    "\n",
    "##\n",
    "res2d = pd.DataFrame(projected_1, columns=['PC1'])\n",
    "res2d['PC2'] = projected_2\n",
    "res2d['Y'] = labels\n",
    "res2d.head()"
   ]
  },
  {
   "cell_type": "markdown",
   "metadata": {
    "id": "9J6YZeXEcLRc"
   },
   "source": [
    "## 2D Visualization"
   ]
  },
  {
   "cell_type": "code",
   "execution_count": 15,
   "metadata": {
    "colab": {
     "base_uri": "https://localhost:8080/",
     "height": 374
    },
    "id": "s1_k1eFoWgkI",
    "outputId": "55fa5cec-e7b9-45d3-bd97-443978f90776"
   },
   "outputs": [
    {
     "name": "stderr",
     "output_type": "stream",
     "text": [
      "/home/mostafa/.local/lib/python3.8/site-packages/matplotlib/collections.py:206: ComplexWarning: Casting complex values to real discards the imaginary part\n",
      "  offsets = np.asanyarray(offsets, float)\n",
      "/home/mostafa/.local/lib/python3.8/site-packages/matplotlib/collections.py:206: ComplexWarning: Casting complex values to real discards the imaginary part\n",
      "  offsets = np.asanyarray(offsets, float)\n",
      "/home/mostafa/.local/lib/python3.8/site-packages/matplotlib/collections.py:206: ComplexWarning: Casting complex values to real discards the imaginary part\n",
      "  offsets = np.asanyarray(offsets, float)\n",
      "/home/mostafa/.local/lib/python3.8/site-packages/matplotlib/collections.py:206: ComplexWarning: Casting complex values to real discards the imaginary part\n",
      "  offsets = np.asanyarray(offsets, float)\n",
      "/home/mostafa/.local/lib/python3.8/site-packages/matplotlib/collections.py:206: ComplexWarning: Casting complex values to real discards the imaginary part\n",
      "  offsets = np.asanyarray(offsets, float)\n"
     ]
    },
    {
     "data": {
      "image/png": "[encoded data removed]",
      "text/plain": [
       "<Figure size 720x432 with 1 Axes>"
      ]
     },
     "metadata": {
      "needs_background": "light"
     },
     "output_type": "display_data"
    }
   ],
   "source": [
    "plt.figure(figsize=(10,6))\n",
    "for label in selected_labels:\n",
    "    label_name = classes[label]\n",
    "    coords = res2d[res2d['Y']==label]\n",
    "    x = coords['PC1'].values\n",
    "    y = coords['PC2'].values\n",
    "    plt.scatter(x, y, label=label_name)\n",
    "\n",
    "plt.legend()\n",
    "plt.show()"
   ]
  },
  {
   "cell_type": "markdown",
   "metadata": {
    "id": "ELdWci2YcOIU"
   },
   "source": [
    "## 3D Visualization\n",
    "\n",
    "Besides the above projections, project the scaled input on the third eigen vector to see the 3D visualization."
   ]
  },
  {
   "cell_type": "code",
   "execution_count": 16,
   "metadata": {
    "colab": {
     "base_uri": "https://localhost:8080/",
     "height": 198
    },
    "id": "U6tP1iosan4z",
    "outputId": "f877bbd7-6c08-48d3-be61-2d053609ed47"
   },
   "outputs": [],
   "source": [
    "# Code Here\n",
    "projected_3 = np.dot(X_scaled, eig_vectors[:, 2])\n",
    "\n",
    "##\n",
    "res3d = pd.DataFrame(projected_1, columns=['PC1'])\n",
    "res3d['PC2'] = projected_2\n",
    "res3d['PC3'] = projected_3\n",
    "res3d['Y'] = labels\n",
    "res3d = res3d.head(500)"
   ]
  },
  {
   "cell_type": "code",
   "execution_count": 17,
   "metadata": {
    "colab": {
     "base_uri": "https://localhost:8080/",
     "height": 266
    },
    "id": "v7DzWsUTc-MX",
    "outputId": "2da957e9-5b69-45d3-dc9b-b34153baa729",
    "scrolled": true
   },
   "outputs": [
    {
     "name": "stderr",
     "output_type": "stream",
     "text": [
      "/home/mostafa/.local/lib/python3.8/site-packages/matplotlib/collections.py:206: ComplexWarning: Casting complex values to real discards the imaginary part\n",
      "  offsets = np.asanyarray(offsets, float)\n",
      "/home/mostafa/.local/lib/python3.8/site-packages/matplotlib/cbook/__init__.py:1333: ComplexWarning: Casting complex values to real discards the imaginary part\n",
      "  return np.asarray(x, float)\n",
      "/home/mostafa/.local/lib/python3.8/site-packages/matplotlib/collections.py:206: ComplexWarning: Casting complex values to real discards the imaginary part\n",
      "  offsets = np.asanyarray(offsets, float)\n",
      "/home/mostafa/.local/lib/python3.8/site-packages/matplotlib/collections.py:206: ComplexWarning: Casting complex values to real discards the imaginary part\n",
      "  offsets = np.asanyarray(offsets, float)\n",
      "/home/mostafa/.local/lib/python3.8/site-packages/matplotlib/cbook/__init__.py:1333: ComplexWarning: Casting complex values to real discards the imaginary part\n",
      "  return np.asarray(x, float)\n",
      "/home/mostafa/.local/lib/python3.8/site-packages/matplotlib/collections.py:206: ComplexWarning: Casting complex values to real discards the imaginary part\n",
      "  offsets = np.asanyarray(offsets, float)\n",
      "/home/mostafa/.local/lib/python3.8/site-packages/matplotlib/cbook/__init__.py:1333: ComplexWarning: Casting complex values to real discards the imaginary part\n",
      "  return np.asarray(x, float)\n",
      "/home/mostafa/.local/lib/python3.8/site-packages/matplotlib/collections.py:206: ComplexWarning: Casting complex values to real discards the imaginary part\n",
      "  offsets = np.asanyarray(offsets, float)\n",
      "/home/mostafa/.local/lib/python3.8/site-packages/matplotlib/cbook/__init__.py:1333: ComplexWarning: Casting complex values to real discards the imaginary part\n",
      "  return np.asarray(x, float)\n"
     ]
    },
    {
     "data": {
      "text/plain": [
       "<matplotlib.legend.Legend at 0x7f5c0005e1f0>"
      ]
     },
     "execution_count": 17,
     "metadata": {},
     "output_type": "execute_result"
    },
    {
     "name": "stderr",
     "output_type": "stream",
     "text": [
      "/home/mostafa/.local/lib/python3.8/site-packages/matplotlib/collections.py:546: ComplexWarning: Casting complex values to real discards the imaginary part\n",
      "  offsets = np.asanyarray(offsets, float)\n",
      "/home/mostafa/.local/lib/python3.8/site-packages/matplotlib/colors.py:292: ComplexWarning: Casting complex values to real discards the imaginary part\n",
      "  c = tuple(map(float, c))\n"
     ]
    },
    {
     "data": {
      "image/png": "[encoded data removed]",
      "text/plain": [
       "<Figure size 360x360 with 1 Axes>"
      ]
     },
     "metadata": {
      "needs_background": "light"
     },
     "output_type": "display_data"
    }
   ],
   "source": [
    "fig = plt.figure(figsize=(5,5))\n",
    "ax = fig.add_subplot(projection='3d')\n",
    "\n",
    "for label in selected_labels:\n",
    "    label_name = classes[label]\n",
    "    coords = res3d[res3d['Y']==label]\n",
    "    x = coords['PC1'].values\n",
    "    y = coords['PC2'].values\n",
    "    z = coords['PC3'].values\n",
    "    ax.scatter3D(x, y, z, label=label_name)\n",
    "    \n",
    "ax.set_xlabel('Principal Component 1')\n",
    "ax.set_ylabel('Principal Component 2')\n",
    "ax.set_zlabel('Principal Component 3')\n",
    "ax.legend()"
   ]
  },
  {
   "attachments": {},
   "cell_type": "markdown",
   "metadata": {
    "id": "LEyMxcO1dLGa"
   },
   "source": [
    "# Reconstruction from Principal Component\n",
    "## Reduction/Compression Phase:\n",
    "<img src=\"https://i.stack.imgur.com/CKI4U.png\" alt=\"drawing\" style=\"width:200px;\"/>\n",
    "\n",
    "Above is the general form of vector on vector projection formula, in order to reconstruct our image we need to find the projection of our X_scaled ($a$) on each of the reduced_eigen_space vectors ($v$) (Note that our calculated eigen vectors are unit vectors, therefore, the denominator equals to one).\n",
    "\n",
    "Determine the number of eigen vectors needed to project image on, such that images can still be recognizable. Note that this number should NOT be accurate and something approximate is enough (don't message TAs about the accuracy :)) )."
   ]
  },
  {
   "cell_type": "code",
   "execution_count": 18,
   "metadata": {},
   "outputs": [],
   "source": [
    "# Code Here\n",
    "number_of_eigen_vectors = 20\n",
    "\n",
    "##\n",
    "reduced_eigen_space = eig_vectors[:, :number_of_eigen_vectors]"
   ]
  },
  {
   "cell_type": "code",
   "execution_count": 19,
   "metadata": {},
   "outputs": [
    {
     "name": "stdout",
     "output_type": "stream",
     "text": [
      "Shape of X_scaled: (10, 784)\n",
      "Shape of reduced_eigen_space: (784, 20)\n",
      "Shape of X_compressed: (10, 20)\n"
     ]
    }
   ],
   "source": [
    "# Code Here\n",
    "X_compressed = np.dot(X_scaled, reduced_eigen_space)\n",
    "\n",
    "##\n",
    "\n",
    "assert X_compressed.shape == (X_scaled.shape[0], number_of_eigen_vectors), \"shape of X_compresed is wrong\"\n",
    "\n",
    "print(f'Shape of X_scaled: {X_scaled.shape}')\n",
    "print(f'Shape of reduced_eigen_space: {reduced_eigen_space.shape}')\n",
    "print(f'Shape of X_compressed: {X_compressed.shape}')"
   ]
  },
  {
   "attachments": {},
   "cell_type": "markdown",
   "metadata": {},
   "source": [
    "## Reconstrunction Phase:"
   ]
  },
  {
   "cell_type": "code",
   "execution_count": 20,
   "metadata": {},
   "outputs": [
    {
     "name": "stdout",
     "output_type": "stream",
     "text": [
      "Shape of X_compressed: (10, 20)\n",
      "Shape of reduced_eigen_space: (784, 20)\n",
      "Shape of X_reconstructed: (10, 784)\n"
     ]
    }
   ],
   "source": [
    "# Code Here\n",
    "X_reconstructed = np.dot(X_compressed, reduced_eigen_space.T)\n",
    "data_reconstructed = X_reconstructed * std_ + mean_\n",
    "\n",
    "##\n",
    "\n",
    "reconstructed_images = np.reshape(data_reconstructed, (-1, 28, 28))\n",
    "\n",
    "print(f'Shape of X_compressed: {X_compressed.shape}')\n",
    "print(f'Shape of reduced_eigen_space: {reduced_eigen_space.shape}')\n",
    "print(f'Shape of X_reconstructed: {X_reconstructed.shape}')"
   ]
  },
  {
   "cell_type": "code",
   "execution_count": 27,
   "metadata": {},
   "outputs": [
    {
     "data": {
      "image/png": "[encoded data removed]",
      "text/plain": [
       "<Figure size 432x288 with 2 Axes>"
      ]
     },
     "metadata": {
      "needs_background": "light"
     },
     "output_type": "display_data"
    }
   ],
   "source": [
    "rec_index = 0\n",
    "\n",
    "f = plt.figure()\n",
    "ax1 = f.add_subplot(1,2,1)\n",
    "plt.imshow(images[rec_index].squeeze(), cmap = 'gray')\n",
    "ax1.axis(False)\n",
    "ax2 = f.add_subplot(1,2,2)\n",
    "ax2.axis(False)\n",
    "plt.imshow(reconstructed_images[rec_index].squeeze().real, cmap = 'gray')\n",
    "ax1.title.set_text('Original')\n",
    "ax2.title.set_text('Reconstructed after Compression')\n",
    "plt.show(block=True)\n",
    "rec_index +=1\n"
   ]
  }
 ],
 "metadata": {
  "colab": {
   "name": "PCA with MNIST Dataset.ipynb",
   "provenance": [],
   "toc_visible": true
  },
  "kernelspec": {
   "display_name": "Python 3",
   "language": "python",
   "name": "python3"
  },
  "language_info": {
   "codemirror_mode": {
    "name": "ipython",
    "version": 3
   },
   "file_extension": ".py",
   "mimetype": "text/x-python",
   "name": "python",
   "nbconvert_exporter": "python",
   "pygments_lexer": "ipython3",
   "version": "3.8.10"
  },
  "vscode": {
   "interpreter": {
    "hash": "916dbcbb3f70747c44a77c7bcd40155683ae19c65e1c03b4aa3499c5328201f1"
   }
  }
 },
 "nbformat": 4,
 "nbformat_minor": 1
}
